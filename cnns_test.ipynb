{
 "cells": [
  {
   "cell_type": "code",
   "execution_count": null,
   "metadata": {},
   "outputs": [
    {
     "name": "stderr",
     "output_type": "stream",
     "text": [
      "d:\\GITHUB - Comparison of CNN Architectures for INTERCO\\Comparison-of-Convolutional-Neural-Network-Architectures-for-INTERCO\\venv_env\\Lib\\site-packages\\torchvision\\models\\_utils.py:208: UserWarning: The parameter 'pretrained' is deprecated since 0.13 and may be removed in the future, please use 'weights' instead.\n",
      "  warnings.warn(\n",
      "d:\\GITHUB - Comparison of CNN Architectures for INTERCO\\Comparison-of-Convolutional-Neural-Network-Architectures-for-INTERCO\\venv_env\\Lib\\site-packages\\torchvision\\models\\_utils.py:223: UserWarning: Arguments other than a weight enum or `None` for 'weights' are deprecated since 0.13 and may be removed in the future. The current behavior is equivalent to passing `weights=ResNet50_Weights.IMAGENET1K_V1`. You can also use `weights=ResNet50_Weights.DEFAULT` to get the most up-to-date weights.\n",
      "  warnings.warn(msg)\n"
     ]
    },
    {
     "name": "stdout",
     "output_type": "stream",
     "text": [
      "Epoch 1/10 - Training Loss: 0.1568\n",
      "Validation Results:\n",
      "  Accuracy: 0.9625\n",
      "  Precision: 0.9635\n",
      "  Recall: 0.9625\n",
      "  F1-score: 0.9625\n",
      "Best model saved with Accuracy: 0.9625\n",
      "Epoch 2/10 - Training Loss: 0.1032\n",
      "Validation Results:\n",
      "  Accuracy: 0.9778\n",
      "  Precision: 0.9783\n",
      "  Recall: 0.9778\n",
      "  F1-score: 0.9778\n",
      "Best model saved with Accuracy: 0.9778\n",
      "Epoch 3/10 - Training Loss: 0.1221\n",
      "Validation Results:\n",
      "  Accuracy: 0.9736\n",
      "  Precision: 0.9747\n",
      "  Recall: 0.9736\n",
      "  F1-score: 0.9736\n",
      "Epoch 4/10 - Training Loss: 0.0770\n",
      "Validation Results:\n",
      "  Accuracy: 0.9847\n",
      "  Precision: 0.9850\n",
      "  Recall: 0.9847\n",
      "  F1-score: 0.9847\n",
      "Best model saved with Accuracy: 0.9847\n",
      "Epoch 5/10 - Training Loss: 0.0646\n",
      "Validation Results:\n",
      "  Accuracy: 0.9806\n",
      "  Precision: 0.9808\n",
      "  Recall: 0.9806\n",
      "  F1-score: 0.9806\n"
     ]
    }
   ],
   "source": [
    "from cnns.alexnet import AlexNet\n",
    "from cnns.vgg import VGG\n",
    "from cnns.inception import Inception\n",
    "from cnns.resnet import ResNet\n",
    "from cnns.resnext import ResNeXt\n",
    "from cnns.mobilenet import MobileNet\n",
    "from cnns.efficientnet import EfficientNet\n",
    "from cnns.cspnet import CSPNet\n",
    "from cnns.convnext import ConvNeXt\n",
    "\n",
    "resnet_model = ResNet(\n",
    "    number_of_classes = 2\n",
    ")\n",
    "resnet_model.fit(\n",
    "    path_to_dataset = \"./maritime-flags-dataset/balanced_two_flags/\"\n",
    ")"
   ]
  }
 ],
 "metadata": {
  "kernelspec": {
   "display_name": "venv_env",
   "language": "python",
   "name": "python3"
  },
  "language_info": {
   "codemirror_mode": {
    "name": "ipython",
    "version": 3
   },
   "file_extension": ".py",
   "mimetype": "text/x-python",
   "name": "python",
   "nbconvert_exporter": "python",
   "pygments_lexer": "ipython3",
   "version": "3.11.0"
  }
 },
 "nbformat": 4,
 "nbformat_minor": 2
}
