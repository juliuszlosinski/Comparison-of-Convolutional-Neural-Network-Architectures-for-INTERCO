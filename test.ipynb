{
 "cells": [
  {
   "cell_type": "code",
   "execution_count": 7,
   "metadata": {},
   "outputs": [],
   "source": [
    "import numpy as np\n",
    "import torch"
   ]
  },
  {
   "cell_type": "code",
   "execution_count": 37,
   "metadata": {},
   "outputs": [],
   "source": [
    "import torchvision\n",
    "import torch"
   ]
  },
  {
   "cell_type": "code",
   "execution_count": 40,
   "metadata": {},
   "outputs": [
    {
     "name": "stdout",
     "output_type": "stream",
     "text": [
      "Files already downloaded and verified\n",
      "Files already downloaded and verified\n"
     ]
    }
   ],
   "source": [
    "transform = torchvision.transforms.Compose(\n",
    "    [torchvision.transforms.ToTensor()]\n",
    ")\n",
    "\n",
    "train_set = torchvision.datasets.CIFAR10(\n",
    "    root=\"./data\", train=True, download=True, transform=transform\n",
    ")\n",
    "\n",
    "test_set = torchvision.datasets.CIFAR10(\n",
    "    root=\"./data\", train=False, download=True, transform=transform\n",
    ")\n",
    "\n",
    "batch_size = 32\n",
    "train_loader = torch.utils.data.DataLoader(\n",
    "    train_set,\n",
    "    batch_size=batch_size,\n",
    "    shuffle=True\n",
    ")\n",
    "test_loader = torch.utils.data.DataLoader(\n",
    "    test_set,\n",
    "    batch_size=batch_size,\n",
    "    shuffle=True\n",
    ")"
   ]
  },
  {
   "cell_type": "code",
   "execution_count": null,
   "metadata": {},
   "outputs": [],
   "source": [
    "class CNNModel(torch.nn.Module):\n",
    "    def __init__(self):\n",
    "        super().__init__()\n",
    "        self.convolution_1 = torch.nn.Conv2d(\n",
    "            3, 32, kernel_size=(3, 3), stride=1, padding=1\n",
    "        )\n",
    "        self.activation_1 = torch.nn.ReLU()\n",
    "        self.dropout_1 = torch.nn.Dropout(0.3)\n",
    "       \n",
    "        self.convolution_2 = torch.nn.Conv2d(\n",
    "            32, 32, kernel_size=(3, 3), stride=1, padding=1\n",
    "        )\n",
    "        self.activation_2 = torch.nn.ReLU()\n",
    "        self.max_pooling_2 = torch.nn.MaxPool2d(kernel_size=(2, 2))\n",
    "       \n",
    "        self.flatten_3 = torch.nn.Flatten()\n",
    "       \n",
    "        self.fully_connected_4 = torch.nn.Linear(8192, 512)\n",
    "        self.activation_4 = torch.nn.ReLU()\n",
    "        self.dropout_4 = torch.nn.Dropout(0.5)\n",
    "       \n",
    "        self.fully_connected_5 = torch.nn.Linear(512, 10)\n",
    "        \n",
    "    def forward(self, X):\n",
    "        X = self.convolution_1(X)\n",
    "        X = self.activation_1(X)\n",
    "        X = self.dropout_1(X)\n",
    "        \n",
    "        X = self.convolution_2(X)\n",
    "        X = self.activation_2(X)\n",
    "        X = self.max_pooling_2(X)\n",
    "        \n",
    "        X = self.flatten_3(X)\n",
    "        \n",
    "        X = self.fully_connected_4(X)\n",
    "        X = self.activation_4(X)\n",
    "        X = self.dropout_4(X)\n",
    "        \n",
    "        X = self.fully_connected_5(X)\n",
    "        return X\n",
    "    \n",
    "model = CNNModel()\n",
    "criterion = torch.nn.CrossEntropyLoss()\n",
    "optimizer = torch.optim.SGD(model.parameters(), lr=0.001, momentum=0.9)\n",
    "\n",
    "number_of_epochs = 20\n",
    "for epoch in range(number_of_epochs):\n",
    "    for inputs, labels in train_loader:\n",
    "        y_predicted = model(inputs)\n",
    "        loss = criterion(y_predicted, labels)\n",
    "        optimizer.zero_grad()\n",
    "        loss.backward()\n",
    "        optimizer.step()\n",
    "    accuracy = 0\n",
    "    count = 0\n",
    "    for inputs, labels in test_loader:\n",
    "        y_predicted = model(inputs)\n",
    "        acc += (torch.argmax(y_predicted, 1) == labels).float().sum()\n",
    "        count += len(labels)\n",
    "    acc = acc / count\n",
    "    print(f\"Epoch {epoch}: model accuracy = {acc*100}\")"
   ]
  },
  {
   "cell_type": "code",
   "execution_count": 69,
   "metadata": {},
   "outputs": [],
   "source": [
    "class BinaryClassifier(torch.nn.Module):\n",
    "    def __init__(self):\n",
    "        super().__init__()\n",
    "        \n",
    "        self.fully_connected_layer_1 = torch.nn.Linear(\n",
    "            in_features = 3, out_features = 64\n",
    "        )\n",
    "        self.activation_1 = torch.nn.ReLU()\n",
    "        self.fully_connected_layer_2= torch.nn.Linear(\n",
    "            in_features = 64, out_features = 1\n",
    "        )\n",
    "        self.activation_2 = torch.nn.Sigmoid()\n",
    "        \n",
    "    def forward(self, X):\n",
    "        X = self.fully_connected_layer_1(X)\n",
    "        X = self.activation_1(X)\n",
    "        X = self.fully_connected_layer_2(X)\n",
    "        X = self.activation_2(X)\n",
    "        return X\n",
    "    \n",
    "    \n",
    "model = BinaryClassifier()\n",
    "criterion = torch.nn.BCEWithLogitsLoss()\n",
    "optimizer = torch.optim.SGD(model.parameters(), lr=0.01)\n",
    "\n",
    "X = torch.randn(32, 3)\n",
    "y = torch.randint(0, 2, (32, 1)).float()\n",
    "\n",
    "y_predicted = model(X)\n",
    "loss = criterion(y_predicted, y)\n",
    "optimizer.zero_grad()\n",
    "loss.backward()\n",
    "optimizer.step()"
   ]
  }
 ],
 "metadata": {
  "kernelspec": {
   "display_name": "venv_env",
   "language": "python",
   "name": "python3"
  },
  "language_info": {
   "codemirror_mode": {
    "name": "ipython",
    "version": 3
   },
   "file_extension": ".py",
   "mimetype": "text/x-python",
   "name": "python",
   "nbconvert_exporter": "python",
   "pygments_lexer": "ipython3",
   "version": "3.11.0"
  }
 },
 "nbformat": 4,
 "nbformat_minor": 2
}
